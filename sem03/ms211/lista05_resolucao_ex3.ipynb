{
 "cells": [
  {
   "cell_type": "markdown",
   "id": "92ee8554",
   "metadata": {},
   "source": [
    "# Questão 3 (continuação)"
   ]
  },
  {
   "cell_type": "code",
   "execution_count": 2,
   "id": "98ed3220",
   "metadata": {},
   "outputs": [
    {
     "data": {
      "text/plain": [
       "2-element Vector{Float64}:\n",
       " -9.41087897609637e-5\n",
       "  0.049595332204027856"
      ]
     },
     "execution_count": 2,
     "metadata": {},
     "output_type": "execute_result"
    }
   ],
   "source": [
    "A = [21^2 21\n",
    "     44^2 44]\n",
    "b = [1, 2]\n",
    "c = A \\ b"
   ]
  },
  {
   "cell_type": "code",
   "execution_count": 4,
   "id": "b2bcf497",
   "metadata": {},
   "outputs": [
    {
     "data": {
      "text/plain": [
       "p (generic function with 1 method)"
      ]
     },
     "execution_count": 4,
     "metadata": {},
     "output_type": "execute_result"
    }
   ],
   "source": [
    "p(x) = c[1]*(x - 100)^2 + c[2]*(x - 100) + 10"
   ]
  },
  {
   "cell_type": "code",
   "execution_count": 5,
   "id": "ee723b32",
   "metadata": {},
   "outputs": [
    {
     "name": "stdout",
     "output_type": "stream",
     "text": [
      "Erro relativo: 9.789336625861462e-5"
     ]
    }
   ],
   "source": [
    "err = abs(p(115) - sqrt(115))/sqrt(115)\n",
    "print(\"Erro relativo: \", err)"
   ]
  }
 ],
 "metadata": {
  "kernelspec": {
   "display_name": "Julia 1.6.2",
   "language": "julia",
   "name": "julia-1.6"
  },
  "language_info": {
   "file_extension": ".jl",
   "mimetype": "application/julia",
   "name": "julia",
   "version": "1.6.2"
  }
 },
 "nbformat": 4,
 "nbformat_minor": 5
}
