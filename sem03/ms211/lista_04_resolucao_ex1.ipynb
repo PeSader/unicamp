{
 "cells": [
  {
   "cell_type": "markdown",
   "id": "331fb83e",
   "metadata": {},
   "source": [
    "# Lista 04 - MS211\n",
    "\n",
    "#### Pedro Sader Azevedo, RA: 243245\n",
    "\n",
    "## Questão 1"
   ]
  },
  {
   "cell_type": "code",
   "execution_count": 10,
   "id": "f442588e",
   "metadata": {},
   "outputs": [
    {
     "data": {
      "text/plain": [
       "gauss_seidel (generic function with 3 methods)"
      ]
     },
     "execution_count": 10,
     "metadata": {},
     "output_type": "execute_result"
    }
   ],
   "source": [
    "using LinearAlgebra\n",
    "\n",
    "function gauss_seidel(A, b, maxiters = 100, prec = 1.0e-5)\n",
    "    n = length(b)\n",
    "    x = 1.0 ./ diag(A) .* b\n",
    "    # Cria um vetor do mesmo tipo e comprimento de x\n",
    "    xnovo = similar(x)\n",
    "    iters = 0\n",
    "    while iters < maxiters && norm(A*x - b) > prec\n",
    "        for i = 1:n\n",
    "            xnovo[i] = b[i]\n",
    "            for j = 1:i - 1\n",
    "                # Usa a estimativa mais atualizada\n",
    "                xnovo[i] = xnovo[i] - A[i, j]*xnovo[j]\n",
    "            end\n",
    "            for j = i + 1:n\n",
    "                # Usa a estimativa mais atualizada\n",
    "                xnovo[i] = xnovo[i] - A[i, j]*x[j]\n",
    "            end\n",
    "            xnovo[i] = xnovo[i] / A[i, i]\n",
    "        end\n",
    "        # Copia o valor de xnovo sobre x, coordenada a coordenada\n",
    "        x .= xnovo\n",
    "        iters = iters + 1\n",
    "    end\n",
    "    print(iters)\n",
    "    return x\n",
    "end"
   ]
  },
  {
   "cell_type": "code",
   "execution_count": 33,
   "id": "d324f6f5",
   "metadata": {},
   "outputs": [
    {
     "data": {
      "text/plain": [
       "3-element Vector{Int64}:\n",
       " 4\n",
       " 9\n",
       " 4"
      ]
     },
     "execution_count": 33,
     "metadata": {},
     "output_type": "execute_result"
    }
   ],
   "source": [
    "A = [4 3 2; 1 5 0; 1 1 3]\n",
    "b = [4; 9; 4]"
   ]
  },
  {
   "cell_type": "code",
   "execution_count": 61,
   "id": "7fe42c7f",
   "metadata": {},
   "outputs": [
    {
     "data": {
      "text/plain": [
       "jacobi (generic function with 3 methods)"
      ]
     },
     "execution_count": 61,
     "metadata": {},
     "output_type": "execute_result"
    }
   ],
   "source": [
    "using LinearAlgebra\n",
    "\n",
    "function jacobi(A, b, maxiters = 3, prec = 1.0e-5)\n",
    "    n = length(b)\n",
    "    x = [1/4, 1/9, 1/4] .* b\n",
    "    # Cria um vetor do mesmo tipo e comprimento de x\n",
    "    xnovo = similar(x)\n",
    "    iters = 0\n",
    "    if iters == 0\n",
    "        print(\"CHUTE INICIAL\", x, \"\\n\")\n",
    "    end\n",
    "    while iters < maxiters && norm(A*x - b) > prec\n",
    "        for i = 1:n\n",
    "            xnovo[i] = b[i]\n",
    "            for j = 1:i - 1\n",
    "                # Usa a estimativa mais atualizada\n",
    "                xnovo[i] = xnovo[i] - A[i, j]*x[j]\n",
    "            end\n",
    "            for j = i + 1:n\n",
    "                # Usa a estimativa mais atualizada\n",
    "                xnovo[i] = xnovo[i] - A[i, j]*x[j]\n",
    "            end\n",
    "            xnovo[i] = xnovo[i] / A[i, i]\n",
    "        end\n",
    "        # Copia o valor de xnovo sobre x, coordenada a coordenada\n",
    "        x .= xnovo\n",
    "        print(x, \"\\n\")\n",
    "        @show norm(A*x - b);\n",
    "        iters = iters + 1\n",
    "    end\n",
    "    return x\n",
    "end"
   ]
  },
  {
   "cell_type": "code",
   "execution_count": 60,
   "id": "86d40b05",
   "metadata": {},
   "outputs": [
    {
     "name": "stdout",
     "output_type": "stream",
     "text": [
      "CHUTE INICIAL[1.0, 1.0, 1.0]\n",
      "[-0.25, 1.6, 0.6666666666666666]norm(A * x - b) = 1.8081605140154027\n",
      "[-0.5333333333333334, 1.85, 0.8833333333333333]norm(A * x - b) = 1.2172373091006812\n",
      "[-0.8291666666666668, 1.9066666666666667, 0.8944444444444444]norm(A * x - b) = 0.42622463358140794\n"
     ]
    },
    {
     "data": {
      "text/plain": [
       "3-element Vector{Float64}:\n",
       " -0.8291666666666668\n",
       "  1.9066666666666667\n",
       "  0.8944444444444444"
      ]
     },
     "execution_count": 60,
     "metadata": {},
     "output_type": "execute_result"
    }
   ],
   "source": [
    "jacobi(A, b)"
   ]
  },
  {
   "cell_type": "code",
   "execution_count": null,
   "id": "5b68ef06",
   "metadata": {},
   "outputs": [],
   "source": []
  },
  {
   "cell_type": "code",
   "execution_count": null,
   "id": "7eb13ce6",
   "metadata": {},
   "outputs": [],
   "source": []
  }
 ],
 "metadata": {
  "kernelspec": {
   "display_name": "Julia 1.6.2",
   "language": "julia",
   "name": "julia-1.6"
  },
  "language_info": {
   "file_extension": ".jl",
   "mimetype": "application/julia",
   "name": "julia",
   "version": "1.6.2"
  }
 },
 "nbformat": 4,
 "nbformat_minor": 5
}
