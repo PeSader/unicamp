{
 "cells": [
  {
   "cell_type": "markdown",
   "id": "1c1e044f-9891-4b01-8538-be6b9c9f0cff",
   "metadata": {},
   "source": [
    "1.\n",
    "\n",
    "    (a) Lorem ipsum dolor sit amet, consectetur adipiscing elit, sed do eiusmod tempor incididunt ut labore et dolore magna aliqua. Ut enim ad minim veniam, $0.9999 \\times 10^{99}$.\n",
    "    (b) Sed ut perspiciatis unde omnis iste natus error sit voluptatem accusantium doloremque laudantium, totam rem aperiam."
   ]
  },
  {
   "cell_type": "markdown",
   "id": "e6d2d221",
   "metadata": {},
   "source": [
    "2.\n",
    "\n",
    "    (a) Uis nostrud exercitation ullamco laboris nisi ut aliquip ex ea commodo consequat:  $\\cancel{x}$. Duis aute irure dolor in reprehenderit in voluptate velit esse cillum dolore eu fugiat nulla pariatu."
   ]
  }
 ],
 "metadata": {
  "kernelspec": {
   "display_name": "Julia 1.6.2",
   "language": "julia",
   "name": "julia-1.6"
  },
  "language_info": {
   "file_extension": ".jl",
   "mimetype": "application/julia",
   "name": "julia",
   "version": "1.6.2"
  },
  "latex_metadata": {
   "title": "Lista 02 - MS211"
  }
 },
 "nbformat": 4,
 "nbformat_minor": 5
}
