{
 "cells": [
  {
   "cell_type": "markdown",
   "id": "0ea67721-fd9f-41f0-9eb1-b8a3f8bdc747",
   "metadata": {},
   "source": [
    "# Lista 1 - MS211\n",
    "\n",
    "Pedro Sader Azevedo (RA: 243245)\n"
   ]
  },
  {
   "cell_type": "markdown",
   "id": "d8a939ea",
   "metadata": {},
   "source": [
    "## Resolucões"
   ]
  },
  {
   "cell_type": "markdown",
   "id": "1c1e044f-9891-4b01-8538-be6b9c9f0cff",
   "metadata": {},
   "source": [
    "### Questão 1\n",
    "\n",
    "(a) O maior número estritamente positivo representável é $0.9999 \\times 10^{99}$.\n",
    "\n",
    "(b) Para a questão do menor número, vamos assumir que o expoente pode assumir valores negativos. Vale dizer que isso não é inteiramente óbvio, visto que representações com base 2 (ou \"binárias\") precisam de um bit a mais para representar o sinal dos números. Enfim, o menor numero estritamente positivo representável é $0.0001 \\times 10^{-99}$.\n",
    "\n",
    "(c) O épsilon da máquina tem a seguinte fórmula, onde $\\alpha$ é o número \"seguido\" ao 1 na representação:\n",
    "\n",
    "$$\n",
    "\\epsilon_{mac} = \\frac{\\alpha - 1}{2}\n",
    "$$\n",
    "\n",
    "Assim, temos que o $\\epsilon_{mac}$ nesse caso é:\n",
    "\n",
    "$$\n",
    "\\epsilon_{mac} = \\frac{0,1001 \\times 10^1 - 0,1000 \\times 10^1}{2} = 5 \\times 10^{-4}\n",
    "$$\n",
    "\n",
    "(d) A vantagem do sistema de representação por ponto flutuante é que o erro relativo é constante e equivalente ao $\\epsilon_{mac}$, isto é, $5 \\times 10^{-4}$.\n",
    "Como o erro relativo é constante, os maiores erros absolutos ocorrerão em representações de números grandes. Assim, usando nossa resposta ao item (a), temos:\n",
    "\n",
    "$$\n",
    "E_{abs} = 0,9999 \\times 10^{99} - 0,9998 \\times 10^{99} = 1 \\times 10^{94}\n",
    "$$"
   ]
  },
  {
   "cell_type": "markdown",
   "id": "578d1a32",
   "metadata": {},
   "source": [
    "### Questão 2\n",
    "\n",
    "(a) Situação de erro: $x \\to 0$, pois\n",
    "\n",
    "$$\n",
    "\\lim_{x \\to 0} (\\sqrt{1 - x} - 1) = \\lim_{t \\to 1}( \\sqrt{t} - 1) = \\lim_{t \\to 1} (t - 1)\n",
    "$$\n",
    "\n",
    "Expressão para evitar o erro:\n",
    "\n",
    "$$\n",
    "\\sqrt{1 - x} - 1 = \\sqrt{1 - x} - 1 \\times \\frac{\\sqrt{1-x} + 1}{\\sqrt{1-x} + 1} = \\frac{1 + x - 1}{\\sqrt{1-x} + 1} = \\frac{x}{\\sqrt{1-x} + 1} = 1 - 1 = 0\n",
    "$$\n",
    "\n",
    "(b) Situação de erro: $x \\to y$, pois\n",
    "\n",
    "$$\n",
    "\\lim_{x \\to y} (\\log{x} - \\log{y}) = \\log{x} - \\log{x} = 0\n",
    "$$\n",
    "\n",
    "Expressão para evitar o erro:\n",
    "\n",
    "$$\n",
    "\\log{x} - \\log{y} = \\log{\\frac{x}{y}}\n",
    "$$\n",
    "\n",
    "(c) Situação de erro: $x \\to 0$, pois\n",
    "\n",
    "$$\n",
    "\\lim_{x \\to 0} (1 - \\cos{x}) = \\lim_{t \\to 1}(1 - t) = 1 - 1 = 0\n",
    "$$\n",
    "\n",
    "Expressão para evitar o erro:\n",
    "\n",
    "$$\n",
    "\\frac{1 - \\cos{x}}{\\sin{x}} = \\frac{1 - \\cos{x}}{\\sin{x}} \\times \\frac{1 + \\cos{x}}{1 + \\cos{x}} = \\frac{1 - \\cos^2{x}}{\\sin{x}~(1 + \\cos{x})} = \\frac{\\sin^2{x}}{\\sin{x}~(1 + \\cos{x})} = \\frac{\\sin{x}}{(1 + \\cos{x})}\n",
    "$$"
   ]
  },
  {
   "cell_type": "markdown",
   "id": "81a9c63c",
   "metadata": {},
   "source": [
    "### Questão 3\n",
    "\n",
    "Para comparar os resultados das funções equivalentes $f(x)$ e $g(x)$ usando 6 dígitos decimais significativos, vamos utilizar a função `setprecision` da linguagem Julia. Essa função recebe um número de bytes como parâmetro, então precisei experimentar algumas opções de argumento usando `log2` e `floor` para chegar a um que consistentemente oferece 6 dígitos de precisão.$^{[1]}$ "
   ]
  },
  {
   "cell_type": "code",
   "execution_count": 1,
   "id": "6992dffa",
   "metadata": {},
   "outputs": [
    {
     "data": {
      "text/plain": [
       "16"
      ]
     },
     "execution_count": 1,
     "metadata": {},
     "output_type": "execute_result"
    }
   ],
   "source": [
    "setprecision(Int(floor(log2(10) * 5)))"
   ]
  },
  {
   "cell_type": "code",
   "execution_count": 20,
   "id": "16363814",
   "metadata": {},
   "outputs": [
    {
     "name": "stdout",
     "output_type": "stream",
     "text": [
      "√2 = 1.41422\n",
      "ℯ = 2.71826\n"
     ]
    }
   ],
   "source": [
    "# alguns exemplos de numeros irracionais conhecidos, para mostrar as 6 casas de precisao\n",
    "\n",
    "println(\"√2 = \", sqrt(BigFloat(2)))\n",
    "println(\"ℯ = \", BigFloat(ℯ))"
   ]
  },
  {
   "cell_type": "code",
   "execution_count": 7,
   "id": "448dc4fb",
   "metadata": {},
   "outputs": [
    {
     "name": "stdout",
     "output_type": "stream",
     "text": [
      "f(500) = 10.9863\n",
      "g(500) = 11.1746\n",
      "p(500) = 11.1748\n"
     ]
    }
   ],
   "source": [
    "function f(x)\n",
    "    return BigFloat(x*(BigFloat(sqrt(BigFloat(x + 1))) - BigFloat(sqrt(x))))\n",
    "end\n",
    "\n",
    "function g(x)\n",
    "    return BigFloat(x/(sqrt(BigFloat(x + 1)) + BigFloat(sqrt(x))))\n",
    "end\n",
    "\n",
    "# vamos definir tambem uma função p(x) que so \"arredonda\" os resultados no final\n",
    "# essa funcao tera o valor mais proximo do valor real de f(500) ou g(500) e servirá\n",
    "# de parametro de comparacao\n",
    "\n",
    "function p(x)\n",
    "    return BigFloat(x*(sqrt(x + 1) - sqrt(x)))\n",
    "end\n",
    "\n",
    "println(\"f(500) = \", f(500))\n",
    "println(\"g(500) = \", g(500))\n",
    "println(\"p(500) = \", p(500))"
   ]
  },
  {
   "cell_type": "markdown",
   "id": "e25d6584",
   "metadata": {},
   "source": [
    "Como esperado, a função $f(x)$ foi muito menos exata que a função $g(x)$ (a primeira teve apenas 1 dígito correto, enquanto a segunda teve 5). Isto pois, ocorrem erros de cancelamento em $f(x)$ quando $x \\to \\infty$\n",
    "\n",
    "$$\n",
    "\\lim_{x \\to \\infty} \\frac{f(x)}{x} = \\lim_{x \\to \\infty} (\\sqrt{x+1} - \\sqrt{x}) = \\lim_{t \\to \\infty} (\\sqrt{t} - \\sqrt{t}) = 0\n",
    "$$\n",
    "\n",
    "A função $g(x)$ não tem esse problema, pois não envolve diferença de raizes."
   ]
  },
  {
   "cell_type": "markdown",
   "id": "537bf873",
   "metadata": {},
   "source": [
    "### Questão 4\n",
    "\n",
    "(a) $f(x) = 1/(1-x)$, $x_0 = 0$\n",
    "\n",
    "$$\n",
    "f(0) \\approx \\frac{\\frac{1}{(1 - 0)^1}}{0!}x^0 + \\frac{\\frac{1}{(1 - 0)^2}}{1!}x^1 + \\frac{\\frac{2}{(1 - 0)^3}}{2!}x^2 + \\frac{\\frac{6}{(1 - 0)^4}}{3!}x^3+~...\n",
    "$$\n",
    "\n",
    "$$\n",
    "~\\approx \\frac{1}{0!}x^0 + \\frac{1}{1!}x^1 + \\frac{2}{2!}x^2 + \\frac{6}{3!}x^3+~...~\\approx x^0 + x^1 + x^2 + x^3+~...\n",
    "$$\n",
    "\n",
    "$$\n",
    "\\approx \\sum_{n=0}^{\\infty} x^n\n",
    "$$\n",
    "\n",
    "(b) $f(x) = \\sin(x)$, $x_0 = 0$\n",
    "\n",
    "$$\n",
    "f(0) \\approx \\frac{\\sin{0}}{0!}x^0 + \\frac{\\cos{0}}{1!}x^1 - \\frac{\\sin{0}}{2!}x^2 - \\frac{\\cos{0}}{3!}x^3 +  \\frac{\\sin{0}}{4!}x^4 + \\frac{\\cos{0}}{5!}x^5 - \\frac{\\sin{0}}{6!}x^6 - \\frac{\\cos{0}}{7!}x^7 +~...\n",
    "$$\n",
    "\n",
    "$$\n",
    "\\approx \\frac{0}{0!}x^0 + \\frac{1}{1!}x^1 - \\frac{0}{2!}x^2 - \\frac{1}{3!}x^3 +  \\frac{0}{4!}x^4 + \\frac{1}{5!}x^5 - \\frac{0}{6!}x^6 - \\frac{1}{7!}x^7 +~...~\\approx \\frac{x^1}{1!} - \\frac{x^3}{3!} + \\frac{x^5}{5!} - \\frac{x^7}{7!}+~...\n",
    "$$\n",
    "\n",
    "$$\n",
    "\\approx \\sum_{n=0}^{\\infty} (-1)^n \\frac{x^{2n+1}}{(2n+1)!}\n",
    "$$\n",
    "\n",
    "(c) $f(x) = \\sqrt{x}$, $x_0 = 1$\n",
    "\n",
    "$$\n",
    "f(1) \\approx = \\frac{\\frac{1}{2^0}1^\\frac{1}{2}}{0!}(x-1)^0 + \\frac{\\frac{1}{2^1}1^\\frac{-1}{2}}{1!}(x-1)^1 - \\frac{\\frac{1}{2^2}1^\\frac{-3}{2}}{2!}(x-1)^2 + \\frac{\\frac{3}{2^3}1^\\frac{-5}{2}}{3!}(x-1)^3 - \\frac{\\frac{15}{2^4}1^\\frac{-7}{2}}{4!}(x-1)^4+~...\n",
    "$$\n",
    "\n",
    "$$\n",
    "\\approx \\frac{1}{0!~2^0}(x-1)^0 + \\frac{1}{1!~2^1}(x-1)^1 - \\frac{1}{2!~2^2}(x-1)^2 + \\frac{3}{3!~2^3}(x-1)^3 - \\frac{15}{4!~2^4}(x-1)^4 +~...\n",
    "$$\n",
    "\n",
    "Note que, a partir do terceiro termo, o numerador da fração é dado pelo produtório dos $n$ primeiros números ímpares. Isso acontece devido às repetidas aplicações da \"regra do tombo\" ao expoente $\\frac{1}{2}$. Podemos nos aproveitar desse fato para escrever os termos desde o terceiro em notação de somatório, assim resultando na seguinte expressão para o polinômio de Taylor.\n",
    "\n",
    "$$\n",
    "f(1) \\approx 1 + \\frac{x}{2} + \\sum_{n=0}^{\\infty} (-1)^{n+1} \\frac{\\prod_{i=0}^{n} \\text{ímpares}}{(n+2)!~2^{n+2}}(x-1)^{n+2}\n",
    "$$\n",
    "\n",
    "Pesquisei na internet uma fórmula para o produtório mencionado$^{[2]}$, assim pude simplificar a expressão acima da seguinte maneira:\n",
    "\n",
    "$$\n",
    "f(1) \\approx 1 + \\frac{x}{2} + \\sum_{n=0}^{\\infty} (-1)^{n+1} \\frac{\\frac{(2n+1)!}{2!~2^n}}{(n+2)!~2^{n+2}}(x-1)^{n+2}\n",
    "$$\n",
    "\n",
    "Claro que isso ainda não é uma fórmula para um termo geral, visto que os dois primeiros termos estão separados do somatório principal. Uma maneira menos elegante de se chegar ao termo geral é definindo-o por partes, com expressões diferentes para os dois primeiros termos.\n",
    "\n",
    "(d) $f(x) = ℯ^x$\n",
    "\n",
    "$$\n",
    "f(1) \\approx \\frac{ℯ^1}{0!}(x-1)^0 + \\frac{ℯ^1}{1!}(x-1)^1 + \\frac{ℯ^1}{2!}(x-1)^2 + \\frac{ℯ^1}{3!}(x-1)^3 + \\frac{ℯ^1}{4!}(x-1)^4 + \\frac{ℯ^1}{5!}(x-1)^5+~...\n",
    "$$\n",
    "\n",
    "$$\n",
    "\\approx ℯ(\\frac{1}{0!}(x-1)^0 + \\frac{1}{1!}(x-1)^1 + \\frac{1}{2!}(x-1)^2 + \\frac{1}{3!}(x-1)^3 + \\frac{1}{4!}(x-1)^4 + \\frac{1}{5!}(x-1)^5+~...)\n",
    "$$\n",
    "\n",
    "$$\n",
    "\\approx \\sum_{n=0}^{\\infty} \\frac{x^n}{n!}(x-1)^n\n",
    "$$"
   ]
  },
  {
   "cell_type": "markdown",
   "id": "07e69aaa",
   "metadata": {},
   "source": [
    "### Questão 5\n",
    "\n",
    "Usando a fórmula de derivada com diferença centrada, temos a seguinte expressão para a derivada segunda:\n",
    "\n",
    "$$\n",
    "f''(x) = \\lim_{h \\to 0} \\frac{f'(x + h) - f'(x-h)}{2h}\n",
    "$$\n",
    "\n",
    "Agora, usamos a fórmula de derivada com diferença centrada para calcular $f'(x+h)$ e $f'(x-h)$:\n",
    "\n",
    "$$\n",
    "f'(x) = \\lim_{h \\to 0} \\frac{f(x+h) - f(x-h)}{2h} \\Rightarrow f'(x + h) = \\lim_{h \\to 0} \\frac{f(x+h + h) - f(x-h + h)}{2h} = \\lim_{h \\to 0} \\frac{f(x+2h) - f(x)}{2h}\n",
    "$$\n",
    "\n",
    "$$\n",
    "f'(x) = \\lim_{h \\to 0} \\frac{f(x+h) - f(x-h)}{2h} \\Rightarrow f'(x - h) = \\lim_{h \\to 0} \\frac{f(x+h - h) - f(x-h - h)}{2h} = \\lim_{h \\to 0} \\frac{f(x) - f(x-2h)}{2h}\n",
    "$$\n",
    "\n",
    "Então a expressão que temos para $f''(x)$ é:\n",
    "\n",
    "$$\n",
    "f''(x) = \\lim_{h \\to 0} \\frac{(\\frac{f(x+2h) - f(x)}{2h}) - (\\frac{f(x) - f(x-2h)}{2h}}{2h}) = \\lim_{h \\to 0} \\frac{f(x+2h) - 2f(x) + f(x-2h)}{(2h)^2}\n",
    "$$\n",
    "\n",
    "Usando as propriedades lineares da operação de limites, temos que:\n",
    "\n",
    "$$\n",
    "L = \\lim_{h \\to 0} 2h = 2 \\lim_{h \\to 0} h = 2 \\cdot 0 = 0\n",
    "$$\n",
    "\n",
    "$$\n",
    "\\therefore h \\to 0 \\Leftrightarrow 2h \\to 0\n",
    "$$\n",
    "\n",
    "Portanto, podemos fazer a substituição $H = 2h$ para chegar na expressão final:\n",
    "\n",
    "$$\n",
    "f''(x) = \\lim_{H \\to 0} \\frac{f(x+H) - 2f(x) + f(x-H)}{H^2}\n",
    "$$\n",
    "\n",
    "$\\blacksquare$\n",
    "\n",
    "Como vimos em aula, derivadas com diferença centrada tem erro matemático proporcional a $h^2$. Isso é vantajoso, pois podemos chegar a boas aproximações numéricas de derivada usando valores maiores $h$, assim mitigando os erros computacionais que ocorrem que quando $h$ é muito pequeno."
   ]
  },
  {
   "cell_type": "markdown",
   "id": "8f554c15",
   "metadata": {},
   "source": [
    "### Questão 6\n",
    "\n",
    "O erro total da derivada numérica com diferença centrada é a soma do erro de aproximação (que diminui quando $h \\to 0$) ao erro de computação (que aumenta quando $h \\to 0$). Assim, temos a seguinte expressão$^{[3][4]}$ para o erro total:\n",
    "\n",
    "$$\n",
    "E(h) = E_{\\text{aprox}}(h) + E_{\\text{comp}}(h) = \\frac{Lf'''~h^2}{6} + \\frac{\\epsilon_{mac}}{h}\n",
    "$$\n",
    "\n",
    "Onde $Lf'''$ é o valor máximo que $f'''$ atinge em um intervalo arbitrário. Para achar o valor de $h$ que minimiza essa função de erro, encontramos o ponto onde a derivada de $E(h)$ com relação a $h$ é nula:\n",
    "\n",
    "$$\n",
    "\\frac{dE(h)}{dh} = \\frac{Lf'''~h}{3} - \\frac{\\epsilon_{mac}}{h^2} = 0\n",
    "$$\n",
    "\n",
    "$$\n",
    "\\Rightarrow \\frac{Lf'''~h}{3} = \\frac{\\epsilon_{mac}}{h^2} \\Rightarrow h^3 = \\frac{3~\\epsilon_{mac}}{Lf'''} \\Rightarrow h = (\\frac{3~\\epsilon_{mac}}{Lf'''})^{\\frac{1}{3}}\n",
    "$$\n",
    "\n",
    "Agora basta calcular a derivada terceira de $f(x)$ e encontrar o seu maior valor no intervalo $[24, 26]$:\n",
    "\n",
    "$$\n",
    "\\frac{d^3}{dx^3} \\ln{x} = \\frac{d^2}{dx^2} x^{-1} = \\frac{d}{dx} -x^{-2} = 2x^{-3}\n",
    "$$\n",
    "\n",
    "Como $x$ está sendo elevado a um número negativo, o maior valor da função ocorrerá no menor número do intervalo, ou seja $Lf''' = 2\\times 24^{-3}$. Agora, podemos usar Julia para encontrar o valor de $h$."
   ]
  },
  {
   "cell_type": "code",
   "execution_count": 37,
   "id": "fe265590",
   "metadata": {},
   "outputs": [
    {
     "name": "stdout",
     "output_type": "stream",
     "text": [
      "h ótimo = 0.0001663623589629035\n"
     ]
    }
   ],
   "source": [
    "Lf = 2 * 24^(-3)\n",
    "eps_mac = eps(1.0)\n",
    "h_otimo = ((3*eps_mac)/Lf)^(1/3)\n",
    "\n",
    "println(\"h ótimo = \", h_otimo)"
   ]
  },
  {
   "cell_type": "code",
   "execution_count": 39,
   "id": "73c95f66",
   "metadata": {},
   "outputs": [],
   "source": [
    "import Base\n",
    "using Plots\n",
    "pyplot()\n",
    "using Polynomials\n",
    "using LaTeXStrings"
   ]
  },
  {
   "cell_type": "code",
   "execution_count": 40,
   "id": "d7e55734",
   "metadata": {},
   "outputs": [
    {
     "data": {
      "text/plain": [
       "erro_rel (generic function with 1 method)"
      ]
     },
     "execution_count": 40,
     "metadata": {},
     "output_type": "execute_result"
    }
   ],
   "source": [
    "F(x) = log(x)\n",
    "dF(x) = 1/x\n",
    "\n",
    "# funcao de diferença centrada\n",
    "function dif_centrada(f, x, h=eps(1.0)^(1/3))\n",
    "    return (f(x + h) - f(x - h)) / (2*h)\n",
    "end\n",
    "\n",
    "# funcao de erro relativo\n",
    "function erro_rel(aprox, exato)\n",
    "    return abs(aprox - exato) / abs(exato)\n",
    "end"
   ]
  },
  {
   "cell_type": "code",
   "execution_count": 45,
   "id": "f7a34ac4",
   "metadata": {},
   "outputs": [
    {
     "data": {
      "image/png": "[encoded data removed]"
     },
     "execution_count": 45,
     "metadata": {},
     "output_type": "execute_result"
    }
   ],
   "source": [
    "ponto = 24\n",
    "expoentes =  LinRange(-1, -15, 20)\n",
    "h = 10.0.^expoentes\n",
    "aproxs = dif_centrada.(F, ponto, h)\n",
    "\n",
    "plot(h, -log10.(erro_rel.(aproxs, dF(ponto))), \n",
    "     xaxis=:log10, label=\"\", marker=:c,\n",
    "     xlabel=L\"h\", ylabel=\"Casas corretas\")\n",
    "\n",
    "title!(L\"Número de casas corretas em função de $h$\")"
   ]
  },
  {
   "cell_type": "markdown",
   "id": "bb97f39d",
   "metadata": {},
   "source": [
    "Como esperado, o maior número de dígitos corretos ocorre quando $h \\to h_{\\text{ótimo}}$ que nesse caso é em torno de $1.6 \\times 10^{-4}$"
   ]
  },
  {
   "cell_type": "markdown",
   "id": "d4c8ef68",
   "metadata": {},
   "source": [
    "## Referências\n",
    "\n",
    "[[1]](https://discourse.julialang.org/t/computations-with-decimals-arbitrary-precision/65534)  Configuração do número de algarismos decimais significativos em Julia\n",
    "\n",
    "[[2]](https://pir2.forumeiros.com/t81996-produto-de-n-numeros-impares) Fórmula para o produtório dos n primeiros números ímpares\n",
    "\n",
    "[[3]](https://cse.engineering.nyu.edu/~mleung/CS3734/s03/ch01/derivative1c44.pdf)[[4]](https://github.com/pjssilva/ms211) Determinação do h ótimo para diferença centrada"
   ]
  }
 ],
 "metadata": {
  "kernelspec": {
   "display_name": "Julia 1.6.2",
   "language": "julia",
   "name": "julia-1.6"
  },
  "language_info": {
   "file_extension": ".jl",
   "mimetype": "application/julia",
   "name": "julia",
   "version": "1.6.2"
  }
 },
 "nbformat": 4,
 "nbformat_minor": 5
}
