{
 "cells": [
  {
   "cell_type": "markdown",
   "id": "20470ce8",
   "metadata": {},
   "source": [
    "# Questão 6"
   ]
  },
  {
   "cell_type": "code",
   "execution_count": 73,
   "id": "92d83865",
   "metadata": {},
   "outputs": [],
   "source": [
    "using LinearAlgebra"
   ]
  },
  {
   "cell_type": "code",
   "execution_count": 68,
   "id": "5f4922e5",
   "metadata": {},
   "outputs": [
    {
     "data": {
      "text/plain": [
       "2-element Vector{Float64}:\n",
       "  6.414\n",
       " 22.93"
      ]
     },
     "execution_count": 68,
     "metadata": {},
     "output_type": "execute_result"
    }
   ],
   "source": [
    "A = [1.133 5.281; 24.140 -1.210]\n",
    "b = [6.414, 22.93]"
   ]
  },
  {
   "cell_type": "code",
   "execution_count": 69,
   "id": "cd342148",
   "metadata": {},
   "outputs": [
    {
     "data": {
      "text/plain": [
       "subs_prog (generic function with 1 method)"
      ]
     },
     "execution_count": 69,
     "metadata": {},
     "output_type": "execute_result"
    }
   ],
   "source": [
    "function subs_reg(A, b)\n",
    "    n = length(b)\n",
    "    x = Vector{Float64}(undef, n)\n",
    "    for i = n:-1:1\n",
    "        ld = b[i]\n",
    "        for j = i + 1:n\n",
    "            ld -= round(A[i, j]*x[j], digits = 3)\n",
    "        end\n",
    "        x[i] = round(ld / A[i, i], digits = 3)\n",
    "    end\n",
    "    x .= round.(x, digits = 3)\n",
    "    return x\n",
    "end\n",
    "\n",
    "function subs_prog(A, b)\n",
    "    n = length(b)\n",
    "    x = Vector{Float64}(undef, n)\n",
    "    x[1] = b[1]/A[1, 1]\n",
    "    for i = 2:n\n",
    "        x[i] = (b[i] - dot(A[i, 1:i], x[1:i]))/A[i, i]\n",
    "    end\n",
    "    x .= round.(x, digits = 3)\n",
    "    return x\n",
    "end"
   ]
  },
  {
   "cell_type": "code",
   "execution_count": 72,
   "id": "8e0e9d59",
   "metadata": {},
   "outputs": [
    {
     "name": "stdout",
     "output_type": "stream",
     "text": [
      "Solucao         = [0.48, 4.239]\n",
      "Verificacao, Ax = [22.929999, 6.45801]\n",
      "lado direito    = [22.93, 6.414]\n"
     ]
    }
   ],
   "source": [
    "# Fatoracao LU de uma matriz A sem pivoteamento\n",
    "function preLU(A)\n",
    "    n, _ = size(A)\n",
    "    L = one(A)\n",
    "    U = copy(A)\n",
    "    for i = 1:n - 1\n",
    "        for j = i + 1:n\n",
    "            coef = round(U[j, i] / U[i, i], digits = 3)\n",
    "            L[j, i] = coef\n",
    "            U[j, i] = 0.0\n",
    "            U[j, i + 1:end] .-= coef .* U[i, i + 1:end]\n",
    "        end\n",
    "    end\n",
    "    L .= round.(L, digits = 3)\n",
    "    U .= round.(U, digits = 3)\n",
    "    return L, U\n",
    "end\n",
    "\n",
    "preL, preU = preLU(A)\n",
    "prey = subs_prog(preL, b)\n",
    "prex = subs_reg(preU, prey)\n",
    "println(\"Solucao         = \", prex)\n",
    "println(\"Verificacao, Ax = \", A*prex)\n",
    "println(\"lado direito    = \", b)"
   ]
  },
  {
   "cell_type": "code",
   "execution_count": 71,
   "id": "8559580e",
   "metadata": {},
   "outputs": [
    {
     "name": "stdout",
     "output_type": "stream",
     "text": [
      "Solucao         = [1.0, 1.0]\n",
      "Verificacao, Ax = [6.414, 22.93]\n",
      "lado direito    = [22.93, 6.414]\n"
     ]
    }
   ],
   "source": [
    "# Fatoracao LU de uma matriz A com pivoteamento parcial\n",
    "function PLU(A)\n",
    "    n, _ = size(A)\n",
    "    P = collect(1:n)\n",
    "    L = one(A)\n",
    "    U = copy(A)\n",
    "    for i = 1:n - 1\n",
    "        # Busca o maior pivot em valor absoluto\n",
    "        maxind = argmax(abs.(U[i:end, i])) + i - 1\n",
    "        # Troca as linhas de lugar e guarda a informação.\n",
    "        U[i, i:end], U[maxind, i:end] = U[maxind, i:end], U[i, i:end]\n",
    "        L[i, 1:i-1], L[maxind, 1:i-1] = L[maxind, 1:i-1], L[i, 1:i-1]\n",
    "        P[i], P[maxind] = P[maxind], P[i]\n",
    "        # Continua com a fatoração LU.\n",
    "        for j = i + 1:n\n",
    "            coef = round(U[j, i] / U[i, i], digits = 3)\n",
    "            L[j, i] = coef\n",
    "            U[j, i] = 0.0\n",
    "            U[j, i + 1:end] .-= coef .* U[i, i + 1:end]\n",
    "        end\n",
    "    end\n",
    "    P .= round.(P, digits = 3)\n",
    "    L .= round.(L, digits = 3)\n",
    "    U .= round.(U, digits = 3)\n",
    "    return P, L, U\n",
    "end\n",
    "\n",
    "P, L, U = PLU(A)\n",
    "b = b[P]\n",
    "y = subs_prog(L, b)\n",
    "x = subs_reg(U, y)\n",
    "println(\"Solucao         = \", x)\n",
    "println(\"Verificacao, Ax = \", A*x)\n",
    "println(\"lado direito    = \", b)"
   ]
  },
  {
   "cell_type": "markdown",
   "id": "9fa2a936",
   "metadata": {},
   "source": [
    "Como podemos ver, a solução do sistema sem pivoteamento foi mais distante da resposta exata que a solução com pivoteamento. Isso aconteceu, pois provavelmente houve erro de cancelamento no primeiro caso, mas não no segundo."
   ]
  }
 ],
 "metadata": {
  "kernelspec": {
   "display_name": "Julia 1.6.2",
   "language": "julia",
   "name": "julia-1.6"
  },
  "language_info": {
   "file_extension": ".jl",
   "mimetype": "application/julia",
   "name": "julia",
   "version": "1.6.2"
  }
 },
 "nbformat": 4,
 "nbformat_minor": 5
}
