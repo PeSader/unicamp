{
 "cells": [
  {
   "cell_type": "code",
   "execution_count": null,
   "metadata": {},
   "outputs": [],
   "source": [
    "import os\n",
    "import numpy as np\n",
    "import matplotlib.pyplot as plt\n",
    "from PIL import Image\n"
   ]
  },
  {
   "cell_type": "code",
   "execution_count": null,
   "metadata": {},
   "outputs": [],
   "source": [
    "os.chdir('C:\\\\Users\\\\ccrca\\\\Desktop')\n"
   ]
  },
  {
   "cell_type": "code",
   "execution_count": null,
   "metadata": {},
   "outputs": [],
   "source": [
    "img = Image.open('img2.png').convert('RGBA')\n",
    "arr = np.array(img)\n",
    "img"
   ]
  },
  {
   "cell_type": "code",
   "execution_count": null,
   "metadata": {},
   "outputs": [],
   "source": [
    "X = np.arange(np.shape(arr)[1])\n",
    "Y = np.arange(np.shape(arr)[0])\n",
    "V_field = np.zeros(np.shape(arr)[0:2])\n",
    "#Ex_field = np.zeros(np.shape(arr)[0:2])\n",
    "#Ey_field = np.zeros(np.shape(arr)[0:2])\n",
    "for i in range(len(arr)):\n",
    "    for j in range(len(arr[i])):\n",
    "        Qij = [arr[i,j][0],arr[i,j][1],arr[i,j][2]]\n",
    "        if Qij==[63,  72, 204] or Qij==[237,  28,  36]:\n",
    "            if Qij[0] >= Qij[2]:\n",
    "                Q = 1\n",
    "            else:\n",
    "                Q = -1\n",
    "            for ii in range(len(V_field)):\n",
    "                for jj in range(len(V_field[ii])):\n",
    "                    if (ii,jj) != (i,j):\n",
    "                        V_field[ii,jj] += Q/np.sqrt((ii-i)**2 + (jj-j)**2)\n",
    "                        #Ex_field[ii,jj] += (Q/((ii-i)**2 + (jj-j)**2)**(3/2))*(ii-i)\n",
    "                        #Ey_field[ii,jj] += (Q/((ii-i)**2 + (jj-j)**2)**(3/2))*(jj-j)\n",
    "aux = np.gradient(V_field)\n",
    "Ex_field = -aux[1]\n",
    "Ey_field = -aux[0]\n"
   ]
  },
  {
   "cell_type": "code",
   "execution_count": null,
   "metadata": {},
   "outputs": [],
   "source": [
    "fig, ax = plt.subplots(1,3,figsize=(15,5))\n",
    "\n",
    "ax[0].pcolormesh(X,-Y,V_field, cmap=plt.cm.RdBu_r)\n",
    "ax[0].grid(True)\n",
    "\n",
    "ax[1].streamplot(X, -Y, Ex_field, -Ey_field, color='black')\n",
    "ax[1].grid(True)\n",
    "\n",
    "ax[2].pcolormesh(X,-Y,V_field, cmap=plt.cm.RdBu_r)\n",
    "ax[2].streamplot(X, -Y, Ex_field, -Ey_field, color='black')\n",
    "ax[2].grid(True)\n"
   ]
  },
  {
   "cell_type": "code",
   "execution_count": null,
   "metadata": {},
   "outputs": [],
   "source": []
  }
 ],
 "metadata": {
  "@webio": {
   "lastCommId": null,
   "lastKernelId": null
  },
  "kernelspec": {
   "display_name": "Python 3",
   "language": "python",
   "name": "python3"
  },
  "language_info": {
   "codemirror_mode": {
    "name": "ipython",
    "version": 3
   },
   "file_extension": ".py",
   "mimetype": "text/x-python",
   "name": "python",
   "nbconvert_exporter": "python",
   "pygments_lexer": "ipython3",
   "version": "3.8.10"
  }
 },
 "nbformat": 4,
 "nbformat_minor": 4
}
